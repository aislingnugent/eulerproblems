{
 "cells": [
  {
   "cell_type": "code",
   "execution_count": null,
   "metadata": {},
   "outputs": [],
   "source": [
    "def a_p_d(n):\n",
    "    i=1\n",
    "    sum_pd=0\n",
    "    p_d=[]\n",
    "    ans = 'deficient'\n",
    "    while i < n:\n",
    "        \n",
    "        if n%i==0:\n",
    "            sum_pd +=i\n",
    "            p_d.append(i)\n",
    "            i+=1\n",
    "\n",
    "        else:\n",
    "            i+=1\n",
    "\n",
    "        if sum_pd<n:\n",
    "            ans = 'deficient'\n",
    "        \n",
    "        elif sum_pd==n:\n",
    "            ans = 'perfect'\n",
    "            \n",
    "        else:\n",
    "            ans = 'abundant'\n",
    "                 \n",
    "    return ans"
   ]
  },
  {
   "cell_type": "code",
   "execution_count": null,
   "metadata": {},
   "outputs": [],
   "source": [
    "a_p_d(15)"
   ]
  },
  {
   "cell_type": "code",
   "execution_count": null,
   "metadata": {},
   "outputs": [],
   "source": [
    "list_abundants=[]\n",
    "\n",
    "for number in range(1,28123):\n",
    "    apd=a_p_d(number)\n",
    "    \n",
    "    if apd == 'abundant':\n",
    "        list_abundants.append(number)\n",
    "\n",
    "        \n",
    "list_sums=[]\n",
    "\n",
    "for i in range(len(list_abundants)):\n",
    "    for j in range(len(list_abundants)):\n",
    "        list_sums.append(list_abundants[i]+list_abundants[j])\n",
    "\n",
    "        \n",
    "set_sums=set(list_sums)\n",
    "cannot=[]\n",
    "\n",
    "for x in range(28123):\n",
    "    if x not in set_sums:\n",
    "        cannot.append(x)\n",
    "cannot"
   ]
  },
  {
   "cell_type": "code",
   "execution_count": null,
   "metadata": {
    "scrolled": true
   },
   "outputs": [],
   "source": [
    "sum(cannot)"
   ]
  }
 ],
 "metadata": {
  "kernelspec": {
   "display_name": "Python 3",
   "language": "python",
   "name": "python3"
  },
  "language_info": {
   "codemirror_mode": {
    "name": "ipython",
    "version": 3
   },
   "file_extension": ".py",
   "mimetype": "text/x-python",
   "name": "python",
   "nbconvert_exporter": "python",
   "pygments_lexer": "ipython3",
   "version": "3.6.5"
  }
 },
 "nbformat": 4,
 "nbformat_minor": 2
}
