{
 "cells": [
  {
   "cell_type": "code",
   "execution_count": 10,
   "metadata": {},
   "outputs": [
    {
     "name": "stdout",
     "output_type": "stream",
     "text": [
      "(1, 2, 5, 10, 20, 50, 100, 200)\n"
     ]
    }
   ],
   "source": [
    "import itertools\n",
    "goal = 200\n",
    "coins = [[1],[2],[5],[10],[20],[50],[100],[200]]\n",
    "\n",
    "for list in itertools.product(*coins):\n",
    "    print (list)\n",
    "\n"
   ]
  },
  {
   "cell_type": "code",
   "execution_count": 5,
   "metadata": {},
   "outputs": [
    {
     "name": "stdout",
     "output_type": "stream",
     "text": [
      "(1, 4)\n",
      "(1, 5)\n",
      "(1, 6)\n",
      "(2, 4)\n",
      "(2, 5)\n",
      "(2, 6)\n",
      "(3, 4)\n",
      "(3, 5)\n",
      "(3, 6)\n"
     ]
    }
   ],
   "source": [
    "import itertools\n",
    "listOLists = [[1,2,3],[4,5,6]]\n",
    "for list in itertools.product(*listOLists):\n",
    "    print (list)"
   ]
  },
  {
   "cell_type": "markdown",
   "metadata": {},
   "source": [
    "coins = [[200],[100],[50],[20],[10],[5],[2],[1]]\n",
    "\n",
    "# you can have\n",
    "## 1 x 200\n",
    "## 2 x 100\n",
    "## 4 x 50\n",
    "## 10 x 20\n",
    "## 20 x 10\n",
    "## 40 x 5\n",
    "## 100 x 2\n",
    "## 200 x 1"
   ]
  },
  {
   "cell_type": "code",
   "execution_count": null,
   "metadata": {},
   "outputs": [],
   "source": []
  }
 ],
 "metadata": {
  "kernelspec": {
   "display_name": "Python 3",
   "language": "python",
   "name": "python3"
  },
  "language_info": {
   "codemirror_mode": {
    "name": "ipython",
    "version": 3
   },
   "file_extension": ".py",
   "mimetype": "text/x-python",
   "name": "python",
   "nbconvert_exporter": "python",
   "pygments_lexer": "ipython3",
   "version": "3.6.5"
  }
 },
 "nbformat": 4,
 "nbformat_minor": 2
}
