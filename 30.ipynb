{
 "cells": [
  {
   "cell_type": "code",
   "execution_count": 2,
   "metadata": {},
   "outputs": [
    {
     "data": {
      "text/plain": [
       "443839"
      ]
     },
     "execution_count": 2,
     "metadata": {},
     "output_type": "execute_result"
    }
   ],
   "source": [
    "fifth_powers=[]\n",
    "for num in range(2,355000):\n",
    "    check=0\n",
    "\n",
    "    str_num = str(num)\n",
    "    for ind in range(len(str_num)):\n",
    "        check += int(str_num[ind])**5\n",
    "    \n",
    "    if check == num:\n",
    "        fifth_powers.append(num)\n",
    "sum(fifth_powers)\n",
    "\n",
    "\n",
    "#### HOW DID I KNOW TO GO TO 355000???"
   ]
  },
  {
   "cell_type": "code",
   "execution_count": null,
   "metadata": {},
   "outputs": [],
   "source": []
  }
 ],
 "metadata": {
  "kernelspec": {
   "display_name": "Python 3",
   "language": "python",
   "name": "python3"
  },
  "language_info": {
   "codemirror_mode": {
    "name": "ipython",
    "version": 3
   },
   "file_extension": ".py",
   "mimetype": "text/x-python",
   "name": "python",
   "nbconvert_exporter": "python",
   "pygments_lexer": "ipython3",
   "version": "3.6.5"
  }
 },
 "nbformat": 4,
 "nbformat_minor": 2
}
