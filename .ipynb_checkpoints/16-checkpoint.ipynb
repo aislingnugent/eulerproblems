{
 "cells": [
  {
   "cell_type": "markdown",
   "metadata": {},
   "source": [
    "2^15 = 32768 and the sum of its digits is 3 + 2 + 7 + 6 + 8 = 26.\n",
    "\n",
    "What is the sum of the digits of the number 2^1000?"
   ]
  },
  {
   "cell_type": "code",
   "execution_count": 1,
   "metadata": {},
   "outputs": [
    {
     "name": "stdout",
     "output_type": "stream",
     "text": [
      "1000\n",
      "Time: 0.00054168701171875\n",
      "sum:  1366\n"
     ]
    }
   ],
   "source": [
    "n = int(input())\n",
    "\n",
    "import time\n",
    "start = time.time()\n",
    "\n",
    "m = 2**n\n",
    "sum_digits = 0\n",
    "\n",
    "m_str = str(m)\n",
    "for digit in m_str:\n",
    "    sum_digits += int(digit)\n",
    "\n",
    "end = time.time()\n",
    "print('Time:', end-start)\n",
    "print('sum: ', sum_digits)"
   ]
  },
  {
   "cell_type": "code",
   "execution_count": null,
   "metadata": {},
   "outputs": [],
   "source": []
  }
 ],
 "metadata": {
  "kernelspec": {
   "display_name": "Python 3",
   "language": "python",
   "name": "python3"
  },
  "language_info": {
   "codemirror_mode": {
    "name": "ipython",
    "version": 3
   },
   "file_extension": ".py",
   "mimetype": "text/x-python",
   "name": "python",
   "nbconvert_exporter": "python",
   "pygments_lexer": "ipython3",
   "version": "3.6.5"
  }
 },
 "nbformat": 4,
 "nbformat_minor": 2
}
