{
 "cells": [
  {
   "cell_type": "code",
   "execution_count": 7,
   "metadata": {},
   "outputs": [
    {
     "name": "stdout",
     "output_type": "stream",
     "text": [
      "Answer: 31875000.0\n",
      "Time Taken: 0:00:01.072402 seconds\n"
     ]
    }
   ],
   "source": [
    "from datetime import datetime\n",
    "start = datetime.now()\n",
    "\n",
    "for a in range(1, 1000):\n",
    "    for b in range (1, 999):\n",
    "        cSquared = a**2 + b**2\n",
    "        c = cSquared**0.5\n",
    "\n",
    "        if a + b + c == 1000:\n",
    "            product = a * b * c\n",
    "            break\n",
    "            \n",
    "end = datetime.now()\n",
    "\n",
    "print('Answer:', product)\n",
    "print('Time Taken:', end-start, 'seconds')"
   ]
  },
  {
   "cell_type": "markdown",
   "metadata": {},
   "source": [
    "Answer: 31875000.0 <br>\n",
    "Time Taken: 1.1699912548065186 seconds"
   ]
  },
  {
   "cell_type": "code",
   "execution_count": null,
   "metadata": {},
   "outputs": [],
   "source": []
  }
 ],
 "metadata": {
  "kernelspec": {
   "display_name": "Python 3",
   "language": "python",
   "name": "python3"
  },
  "language_info": {
   "codemirror_mode": {
    "name": "ipython",
    "version": 3
   },
   "file_extension": ".py",
   "mimetype": "text/x-python",
   "name": "python",
   "nbconvert_exporter": "python",
   "pygments_lexer": "ipython3",
   "version": "3.6.5"
  }
 },
 "nbformat": 4,
 "nbformat_minor": 2
}
