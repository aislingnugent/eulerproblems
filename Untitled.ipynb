{
 "cells": [
  {
   "cell_type": "code",
   "execution_count": 33,
   "metadata": {},
   "outputs": [
    {
     "name": "stdout",
     "output_type": "stream",
     "text": [
      "Find the highest prime factor of 26\n"
     ]
    }
   ],
   "source": [
    "inp = int(input('Find the highest prime factor of '))\n",
    "\n",
    "prime_factors=[]\n",
    "factors = []\n",
    "import math as m\n",
    "\n",
    "for i in range(1, m.ceil(inp/2), 2):    \n",
    "    # Is i a factor of inp?\n",
    "    if inp % i == 0:\n",
    "        factor = i\n",
    "        factors.append(factor)\n",
    "        \n",
    "        # is the factor prime?\n",
    "        j=2\n",
    "        while j < m.ceil(factor/2) +1:\n",
    "            \n",
    "            if factor%j == 0: \n",
    "                factor_is_prime = False\n",
    "                break\n",
    "            \n",
    "            else:\n",
    "                j+=1\n",
    "                factor_is_prime = True\n",
    "        \n",
    "        if factor_is_prime == True:\n",
    "            prime_factors.append(factor)"
   ]
  },
  {
   "cell_type": "code",
   "execution_count": 31,
   "metadata": {},
   "outputs": [
    {
     "data": {
      "text/plain": [
       "[2]"
      ]
     },
     "execution_count": 31,
     "metadata": {},
     "output_type": "execute_result"
    }
   ],
   "source": [
    "prime_factors\n"
   ]
  },
  {
   "cell_type": "code",
   "execution_count": null,
   "metadata": {},
   "outputs": [],
   "source": []
  }
 ],
 "metadata": {
  "kernelspec": {
   "display_name": "Python 3",
   "language": "python",
   "name": "python3"
  },
  "language_info": {
   "codemirror_mode": {
    "name": "ipython",
    "version": 3
   },
   "file_extension": ".py",
   "mimetype": "text/x-python",
   "name": "python",
   "nbconvert_exporter": "python",
   "pygments_lexer": "ipython3",
   "version": "3.6.5"
  }
 },
 "nbformat": 4,
 "nbformat_minor": 2
}
