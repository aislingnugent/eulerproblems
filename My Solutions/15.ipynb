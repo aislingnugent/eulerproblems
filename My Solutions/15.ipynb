{
 "cells": [
  {
   "cell_type": "code",
   "execution_count": 19,
   "metadata": {},
   "outputs": [
    {
     "name": "stdout",
     "output_type": "stream",
     "text": [
      "525 837799\n"
     ]
    }
   ],
   "source": [
    "max_chain = 0\n",
    "for n in range(2,1000000):\n",
    "    starting_number = n\n",
    "    chain = []\n",
    "    chain=[n]\n",
    "    while n!=1:\n",
    "        \n",
    "        if n%2 == 0:\n",
    "            n = n/2\n",
    "            chain.append(n)\n",
    "        \n",
    "        else:\n",
    "            n = 3*n +1\n",
    "            chain.append(n)\n",
    "          \n",
    "        if len(chain) > max_chain:\n",
    "            max_chain = len(chain)\n",
    "            max_starting_number = starting_number\n",
    "            \n",
    "        continue\n",
    "\n",
    "print(max_chain, max_starting_number)"
   ]
  },
  {
   "cell_type": "code",
   "execution_count": 16,
   "metadata": {},
   "outputs": [
    {
     "name": "stdout",
     "output_type": "stream",
     "text": [
      "13\n",
      "10 13 [13, 40, 20.0, 10.0, 5.0, 16.0, 8.0, 4.0, 2.0, 1.0]\n"
     ]
    }
   ],
   "source": [
    "n = int(input())\n",
    "\n",
    "max_chain = 0\n",
    "starting_number = n\n",
    "chain = []\n",
    "chain=[n]\n",
    "while n!=1:\n",
    "\n",
    "    \n",
    "    if n%2 == 0:\n",
    "        n = n/2\n",
    "        chain.append(n)\n",
    "    else:\n",
    "        n = 3*n +1\n",
    "        chain.append(n)\n",
    "        \n",
    "    if len(chain) > max_chain:\n",
    "        max_chain = len(chain)\n",
    "        max_starting_number = starting_number\n",
    "    \n",
    "    continue\n",
    "    \n",
    "\n",
    "print(max_chain, starting_number, chain)"
   ]
  }
 ],
 "metadata": {
  "kernelspec": {
   "display_name": "Python 3",
   "language": "python",
   "name": "python3"
  }
 },
 "nbformat": 4,
 "nbformat_minor": 2
}
