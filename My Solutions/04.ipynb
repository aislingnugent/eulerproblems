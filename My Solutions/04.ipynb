{
 "cells": [
  {
   "cell_type": "code",
   "execution_count": 7,
   "metadata": {},
   "outputs": [
    {
     "name": "stdout",
     "output_type": "stream",
     "text": [
      "Max Palindrome: 906609\n",
      "Time taken to run script: 0.7761902809143066 seconds\n"
     ]
    }
   ],
   "source": [
    "import time\n",
    "start = time.time()\n",
    "\n",
    "max_palindrome = 0\n",
    "\n",
    "for i in range(100,1000):\n",
    "    for j in range(100,1000):\n",
    "        \n",
    "        prod = i*j\n",
    "        prod_str = str(prod)\n",
    "        \n",
    "        if len(prod_str) == 6:\n",
    "            prod_beg = prod_str[0]+prod_str[1] +prod_str[2]\n",
    "            prod_rev = prod_str[5]+prod_str[4]+prod_str[3]\n",
    "\n",
    "        elif len(prod_str) == 5:\n",
    "            prod_beg = prod_str[0]+prod_str[1] + prod_str[2]\n",
    "            prod_rev = prod_str[4]+prod_str[3] + prod_str[2]\n",
    "            \n",
    "        if prod_beg == prod_rev:\n",
    "            if prod>max_palindrome:\n",
    "                max_palindrome = prod\n",
    "\n",
    "                \n",
    "print('Max Palindrome:', max_palindrome)\n",
    "\n",
    "end = time.time()\n",
    "print('Time taken to run script:', end - start, 'seconds')"
   ]
  },
  {
   "cell_type": "markdown",
   "metadata": {},
   "source": [
    "Max Palindrome: 906609\n",
    "Time taken to run script: 0.7761902809143066 seconds"
   ]
  }
 ],
 "metadata": {
  "kernelspec": {
   "display_name": "Python 3",
   "language": "python",
   "name": "python3"
  },
  "language_info": {
   "codemirror_mode": {
    "name": "ipython",
    "version": 3
   },
   "file_extension": ".py",
   "mimetype": "text/x-python",
   "name": "python",
   "nbconvert_exporter": "python",
   "pygments_lexer": "ipython3",
   "version": "3.6.5"
  }
 },
 "nbformat": 4,
 "nbformat_minor": 2
}
