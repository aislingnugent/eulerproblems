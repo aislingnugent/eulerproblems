{
 "cells": [
  {
   "cell_type": "code",
   "execution_count": 10,
   "metadata": {},
   "outputs": [
    {
     "name": "stdout",
     "output_type": "stream",
     "text": [
      "1/ 2 = 0.5 1\n",
      "1/ 3 = 0.3333333333333333 16\n",
      "1/ 4 = 0.25 2\n",
      "1/ 5 = 0.2 1\n",
      "1/ 6 = 0.16666666666666666 17\n",
      "1/ 7 = 0.14285714285714285 17\n",
      "1/ 8 = 0.125 3\n",
      "1/ 9 = 0.1111111111111111 16\n",
      "1/ 10 = 0.1 1\n"
     ]
    }
   ],
   "source": [
    "for d in range(2,11):\n",
    "    frac=1/d\n",
    "    print('1/',d, '=', frac, len(str(frac))-2,)"
   ]
  }
 ],
 "metadata": {
  "kernelspec": {
   "display_name": "Python 3",
   "language": "python",
   "name": "python3"
  },
  "language_info": {
   "codemirror_mode": {
    "name": "ipython",
    "version": 3
   },
   "file_extension": ".py",
   "mimetype": "text/x-python",
   "name": "python",
   "nbconvert_exporter": "python",
   "pygments_lexer": "ipython3",
   "version": "3.6.5"
  }
 },
 "nbformat": 4,
 "nbformat_minor": 2
}
