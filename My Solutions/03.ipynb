{
 "cells": [
  {
   "cell_type": "code",
   "execution_count": 1,
   "metadata": {},
   "outputs": [
    {
     "ename": "SyntaxError",
     "evalue": "invalid syntax (<ipython-input-1-56aac1522013>, line 11)",
     "output_type": "error",
     "traceback": [
      "\u001b[1;36m  File \u001b[1;32m\"<ipython-input-1-56aac1522013>\"\u001b[1;36m, line \u001b[1;32m11\u001b[0m\n\u001b[1;33m    if n > maxfactor:\u001b[0m\n\u001b[1;37m     ^\u001b[0m\n\u001b[1;31mSyntaxError\u001b[0m\u001b[1;31m:\u001b[0m invalid syntax\n"
     ]
    }
   ],
   "source": [
    "def find_prime_factors(number):\n",
    "    maxfactor=1\n",
    "    \n",
    "    for n in range(3,int((number/2)+1), 2):\n",
    "        print('n:', n)\n",
    "        if number % n == 0:\n",
    "            print('number (',# number,')', 'divided by', n, 'goes')\n",
    "            \n",
    "            #need to check is n prime#\n",
    "            \n",
    "            if n > maxfactor:\n",
    "                maxfactor=n\n",
    "                print('the current max factor is:',maxfactor)\n",
    "    return maxfactor\n",
    "        \n",
    "    "
   ]
  },
  {
   "cell_type": "code",
   "execution_count": null,
   "metadata": {},
   "outputs": [],
   "source": [
    "\n",
    "\n",
    "find_prime_factors(100)"
   ]
  },
  {
   "cell_type": "code",
   "execution_count": null,
   "metadata": {},
   "outputs": [],
   "source": []
  },
  {
   "cell_type": "code",
   "execution_count": 7,
   "metadata": {},
   "outputs": [],
   "source": [
    "def is_it_prime(num):\n",
    "\n",
    "    for i in range(3,num,2):\n",
    "        if (num % i) == 0:\n",
    "            answer=False\n",
    "            break\n",
    "        else:\n",
    "            answer=True\n",
    "    return answer\n"
   ]
  },
  {
   "cell_type": "code",
   "execution_count": 9,
   "metadata": {},
   "outputs": [
    {
     "data": {
      "text/plain": [
       "True"
      ]
     },
     "execution_count": 9,
     "metadata": {},
     "output_type": "execute_result"
    }
   ],
   "source": [
    "is_it_prime(10321)"
   ]
  },
  {
   "cell_type": "code",
   "execution_count": 3,
   "metadata": {},
   "outputs": [],
   "source": [
    "import math as m\n",
    "def fpf(number):\n",
    "    i=2\n",
    "    mylist=[]\n",
    "    while i < m.ceil(number/2)+1:\n",
    "        print(i)\n",
    "        iip = is_it_prime(i)\n",
    "        if iip==True:\n",
    "            if number%i==0:\n",
    "                mylist.append(number)\n",
    "                i+=1\n",
    "        else:\n",
    "            \n",
    "            i+=1\n",
    "    return mylist"
   ]
  },
  {
   "cell_type": "code",
   "execution_count": null,
   "metadata": {},
   "outputs": [],
   "source": [
    "fpf(20)"
   ]
  },
  {
   "cell_type": "code",
   "execution_count": 4,
   "metadata": {},
   "outputs": [],
   "source": [
    "import math as m\n",
    "\n",
    "def highest_prime(n):\n",
    "\n",
    "    for i in range(2,m.ceil(n/2)+1):\n",
    "        if n%i == 0:\n",
    "            print(i, 'is a factor of', n)\n",
    "            iip = is_it_prime(i)\n",
    "            if iip == True:\n",
    "                print(i, 'is prime')\n",
    "                high_prime = i\n",
    "            else:\n",
    "                continue\n",
    "    return high_prime\n",
    "\n"
   ]
  },
  {
   "cell_type": "code",
   "execution_count": 5,
   "metadata": {},
   "outputs": [
    {
     "name": "stdout",
     "output_type": "stream",
     "text": [
      "2 is a factor of 1000\n"
     ]
    },
    {
     "ename": "UnboundLocalError",
     "evalue": "local variable 'answer' referenced before assignment",
     "output_type": "error",
     "traceback": [
      "\u001b[1;31m---------------------------------------------------------------------------\u001b[0m",
      "\u001b[1;31mUnboundLocalError\u001b[0m                         Traceback (most recent call last)",
      "\u001b[1;32m<ipython-input-5-68f00fda40d1>\u001b[0m in \u001b[0;36m<module>\u001b[1;34m()\u001b[0m\n\u001b[1;32m----> 1\u001b[1;33m \u001b[0mhighest_prime\u001b[0m\u001b[1;33m(\u001b[0m\u001b[1;36m1000\u001b[0m\u001b[1;33m)\u001b[0m\u001b[1;33m\u001b[0m\u001b[0m\n\u001b[0m",
      "\u001b[1;32m<ipython-input-4-fa2f377a793a>\u001b[0m in \u001b[0;36mhighest_prime\u001b[1;34m(n)\u001b[0m\n\u001b[0;32m      6\u001b[0m         \u001b[1;32mif\u001b[0m \u001b[0mn\u001b[0m\u001b[1;33m%\u001b[0m\u001b[0mi\u001b[0m \u001b[1;33m==\u001b[0m \u001b[1;36m0\u001b[0m\u001b[1;33m:\u001b[0m\u001b[1;33m\u001b[0m\u001b[0m\n\u001b[0;32m      7\u001b[0m             \u001b[0mprint\u001b[0m\u001b[1;33m(\u001b[0m\u001b[0mi\u001b[0m\u001b[1;33m,\u001b[0m \u001b[1;34m'is a factor of'\u001b[0m\u001b[1;33m,\u001b[0m \u001b[0mn\u001b[0m\u001b[1;33m)\u001b[0m\u001b[1;33m\u001b[0m\u001b[0m\n\u001b[1;32m----> 8\u001b[1;33m             \u001b[0miip\u001b[0m \u001b[1;33m=\u001b[0m \u001b[0mis_it_prime\u001b[0m\u001b[1;33m(\u001b[0m\u001b[0mi\u001b[0m\u001b[1;33m)\u001b[0m\u001b[1;33m\u001b[0m\u001b[0m\n\u001b[0m\u001b[0;32m      9\u001b[0m             \u001b[1;32mif\u001b[0m \u001b[0miip\u001b[0m \u001b[1;33m==\u001b[0m \u001b[1;32mTrue\u001b[0m\u001b[1;33m:\u001b[0m\u001b[1;33m\u001b[0m\u001b[0m\n\u001b[0;32m     10\u001b[0m                 \u001b[0mprint\u001b[0m\u001b[1;33m(\u001b[0m\u001b[0mi\u001b[0m\u001b[1;33m,\u001b[0m \u001b[1;34m'is prime'\u001b[0m\u001b[1;33m)\u001b[0m\u001b[1;33m\u001b[0m\u001b[0m\n",
      "\u001b[1;32m<ipython-input-2-4659a782ab78>\u001b[0m in \u001b[0;36mis_it_prime\u001b[1;34m(num)\u001b[0m\n\u001b[0;32m      7\u001b[0m         \u001b[1;32melse\u001b[0m\u001b[1;33m:\u001b[0m\u001b[1;33m\u001b[0m\u001b[0m\n\u001b[0;32m      8\u001b[0m             \u001b[0manswer\u001b[0m\u001b[1;33m=\u001b[0m\u001b[1;32mTrue\u001b[0m\u001b[1;33m\u001b[0m\u001b[0m\n\u001b[1;32m----> 9\u001b[1;33m     \u001b[1;32mreturn\u001b[0m \u001b[0manswer\u001b[0m\u001b[1;33m\u001b[0m\u001b[0m\n\u001b[0m",
      "\u001b[1;31mUnboundLocalError\u001b[0m: local variable 'answer' referenced before assignment"
     ]
    }
   ],
   "source": [
    "highest_prime(1000)"
   ]
  },
  {
   "cell_type": "code",
   "execution_count": null,
   "metadata": {},
   "outputs": [],
   "source": [
    "inp = int(input('Find the highest prime factor of '))\n",
    "\n",
    "prime_factors=[]\n",
    "factors = []\n",
    "import math as m\n",
    "\n",
    "for i in range(1, m.ceil(inp/2), 2):\n",
    "    print('i:', i)\n",
    "    \n",
    "    # Is i a factor of inp?\n",
    "    print('\\n')\n",
    "\n",
    "    if inp % i == 0:\n",
    "        print(i, 'is a factor of', inp)\n",
    "        factor = i\n",
    "        factors.append(factor)\n",
    "        # is the factor prime?\n",
    "        j=2\n",
    "        while j < m.ceil(factor/2) +1:\n",
    "            print('j:', j)\n",
    "            \n",
    "            if factor%j == 0: \n",
    "                print('factor is not prime')\n",
    "                factor_is_prime = False\n",
    "                break\n",
    "            \n",
    "            else:\n",
    "                j+=1\n",
    "                factor_is_prime = True\n",
    "        print('factor is prime:', factor_is_prime)\n",
    "        \n",
    "        if factor_is_prime == True:\n",
    "            prime_factors.append(factor)\n",
    "\n",
    "                \n",
    "print(prime_factors)\n",
    "print('odd factors:',factors)"
   ]
  },
  {
   "cell_type": "code",
   "execution_count": null,
   "metadata": {},
   "outputs": [],
   "source": [
    "inp = int(input('Find the highest prime factor of '))\n",
    "\n",
    "prime_factors=[]\n",
    "factors = []\n",
    "import math as m\n",
    "\n",
    "for i in range(1, m.ceil(inp/2), 2):    \n",
    "    # Is i a factor of inp?\n",
    "    if inp % i == 0:\n",
    "        factor = i\n",
    "        factors.append(factor)\n",
    "        \n",
    "        # is the factor prime?\n",
    "        j=2\n",
    "        while j < m.ceil(factor/2) +1:\n",
    "            \n",
    "            if factor%j == 0: \n",
    "                factor_is_prime = False\n",
    "                break\n",
    "            \n",
    "            else:\n",
    "                j+=1\n",
    "                factor_is_prime = True\n",
    "        \n",
    "        if factor_is_prime == True:\n",
    "            prime_factors.append(factor)"
   ]
  },
  {
   "cell_type": "code",
   "execution_count": null,
   "metadata": {},
   "outputs": [],
   "source": [
    "checking = True"
   ]
  },
  {
   "cell_type": "code",
   "execution_count": null,
   "metadata": {},
   "outputs": [],
   "source": [
    "checking\n"
   ]
  },
  {
   "cell_type": "code",
   "execution_count": null,
   "metadata": {},
   "outputs": [],
   "source": []
  }
 ],
 "metadata": {
  "kernelspec": {
   "display_name": "Python 3",
   "language": "python",
   "name": "python3"
  },
  "language_info": {
   "codemirror_mode": {
    "name": "ipython",
    "version": 3
   },
   "file_extension": ".py",
   "mimetype": "text/x-python",
   "name": "python",
   "nbconvert_exporter": "python",
   "pygments_lexer": "ipython3",
   "version": "3.6.5"
  }
 },
 "nbformat": 4,
 "nbformat_minor": 2
}
