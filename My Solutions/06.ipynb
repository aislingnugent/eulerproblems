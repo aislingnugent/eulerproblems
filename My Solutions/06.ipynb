{
 "cells": [
  {
   "cell_type": "code",
   "execution_count": 1,
   "metadata": {},
   "outputs": [
    {
     "name": "stdout",
     "output_type": "stream",
     "text": [
      "enter number: 500\n",
      "15645770750\n",
      "Time Taken: 5.79326868057251 seconds\n"
     ]
    }
   ],
   "source": [
    "import time\n",
    "start = time.time()\n",
    "\n",
    "n = input(\"enter number: \")\n",
    "\n",
    "sum_squares = 0\n",
    "sum_square = 0\n",
    "\n",
    "for i in range(0,int(n)+1):\n",
    "    sum_squares += i**2\n",
    "    sum_square += i\n",
    "    \n",
    "sum_square = sum_square**2\n",
    "\n",
    "answer = sum_square - sum_squares\n",
    "print(answer)\n",
    "\n",
    "\n",
    "end = time.time()\n",
    "print('Time Taken:',end - start, 'seconds')"
   ]
  },
  {
   "cell_type": "markdown",
   "metadata": {},
   "source": [
    "enter number: 100 <br>\n",
    "25164150 <br>\n",
    "Time Taken: 1.4381964206695557 seconds"
   ]
  },
  {
   "cell_type": "code",
   "execution_count": 2,
   "metadata": {},
   "outputs": [
    {
     "data": {
      "text/plain": [
       "15645770750"
      ]
     },
     "execution_count": 2,
     "metadata": {},
     "output_type": "execute_result"
    }
   ],
   "source": [
    "answer"
   ]
  }
 ],
 "metadata": {
  "kernelspec": {
   "display_name": "Python 3",
   "language": "python",
   "name": "python3"
  },
  "language_info": {
   "codemirror_mode": {
    "name": "ipython",
    "version": 3
   },
   "file_extension": ".py",
   "mimetype": "text/x-python",
   "name": "python",
   "nbconvert_exporter": "python",
   "pygments_lexer": "ipython3",
   "version": "3.6.5"
  }
 },
 "nbformat": 4,
 "nbformat_minor": 2
}
