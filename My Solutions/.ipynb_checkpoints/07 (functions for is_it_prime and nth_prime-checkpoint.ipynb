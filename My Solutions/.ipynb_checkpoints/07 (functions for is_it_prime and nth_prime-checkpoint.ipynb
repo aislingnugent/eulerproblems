{
 "cells": [
  {
   "cell_type": "markdown",
   "metadata": {},
   "source": [
    "By listing the first six prime numbers: 2, 3, 5, 7, 11, and 13, we can see that the 6th prime is 13.\n",
    "\n",
    "What is the 10 001st prime number?"
   ]
  },
  {
   "cell_type": "code",
   "execution_count": 1,
   "metadata": {},
   "outputs": [],
   "source": [
    "def is_it_prime(num):\n",
    "\n",
    "    for i in range(2,num):\n",
    "        if (num % i) == 0:\n",
    "            answer=False\n",
    "            break\n",
    "    else:\n",
    "        answer=True\n",
    "    return answer"
   ]
  },
  {
   "cell_type": "code",
   "execution_count": 2,
   "metadata": {},
   "outputs": [],
   "source": [
    "def find_nth_prime(nth_prime):\n",
    "    \n",
    "    primes = []\n",
    "    i=2\n",
    "    \n",
    "    while len(primes) < nth_prime:\n",
    "        if is_it_prime(i) == True:\n",
    "            primes.append(i)\n",
    "            i+=1\n",
    "        else:\n",
    "            i+=1\n",
    "            continue\n",
    "    \n",
    "    return primes[nth_prime-1]"
   ]
  },
  {
   "cell_type": "code",
   "execution_count": null,
   "metadata": {},
   "outputs": [],
   "source": [
    "import time\n",
    "start = time.time()\n",
    "\n",
    "answer = find_nth_prime(10001)\n",
    "\n",
    "end = time.time()\n",
    "print(answer)\n",
    "print('Time Taken:', end - start,'seconds')"
   ]
  },
  {
   "cell_type": "markdown",
   "metadata": {},
   "source": [
    "104743\n",
    "Time Taken: 38.3245964050293 seconds"
   ]
  }
 ],
 "metadata": {
  "kernelspec": {
   "display_name": "Python 3",
   "language": "python",
   "name": "python3"
  },
  "language_info": {
   "codemirror_mode": {
    "name": "ipython",
    "version": 3
   },
   "file_extension": ".py",
   "mimetype": "text/x-python",
   "name": "python",
   "nbconvert_exporter": "python",
   "pygments_lexer": "ipython3",
   "version": "3.6.5"
  }
 },
 "nbformat": 4,
 "nbformat_minor": 2
}
