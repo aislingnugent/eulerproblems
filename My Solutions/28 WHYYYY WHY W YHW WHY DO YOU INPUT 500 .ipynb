{
 "cells": [
  {
   "cell_type": "code",
   "execution_count": 10,
   "metadata": {},
   "outputs": [],
   "source": [
    "def sum_spiral(size):\n",
    "    nXn_matrix = size\n",
    "    first_els=[1]\n",
    "    orange=2\n",
    "    for i in range(nXn_matrix):\n",
    "        first_els.append(first_els[i]+orange)\n",
    "        orange+=8\n",
    "    new_list=[]\n",
    "\n",
    "    p=2\n",
    "    for i in range(1,len(first_els)):\n",
    "        new_list.append(first_els[i])\n",
    "        for j in range(3):\n",
    "            new_list.append(first_els[i]+p)\n",
    "            p+=2*i\n",
    "        p=2+2*i\n",
    "    sum_spiral=sum(new_list)+1\n",
    "    return sum_spiral"
   ]
  },
  {
   "cell_type": "code",
   "execution_count": 11,
   "metadata": {},
   "outputs": [
    {
     "data": {
      "text/plain": [
       "669171001"
      ]
     },
     "execution_count": 11,
     "metadata": {},
     "output_type": "execute_result"
    }
   ],
   "source": [
    "sum_spiral(500)"
   ]
  }
 ],
 "metadata": {
  "kernelspec": {
   "display_name": "Python 3",
   "language": "python",
   "name": "python3"
  },
  "language_info": {
   "codemirror_mode": {
    "name": "ipython",
    "version": 3
   },
   "file_extension": ".py",
   "mimetype": "text/x-python",
   "name": "python",
   "nbconvert_exporter": "python",
   "pygments_lexer": "ipython3",
   "version": "3.6.5"
  }
 },
 "nbformat": 4,
 "nbformat_minor": 2
}
