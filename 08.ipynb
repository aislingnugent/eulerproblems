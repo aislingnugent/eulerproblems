{
 "cells": [
  {
   "cell_type": "code",
   "execution_count": 1,
   "metadata": {},
   "outputs": [],
   "source": [
    "number = 73167176531330624919225119674426574742355349194934969835203127745063262395783180169848018694788518438586156078911294949545950173795833195285320880551112540698747158523863050715693290963295227443043557668966489504452445231617318564030987111217223831136222989342338030813533627661428280644448664523874930358907296290491560440772390713810515859307960866701724271218839987979087922749219016997208880937766572733300105336788122023542180975125454059475224352584907711670556013604839586446706324415722155397536978179778461740649551492908625693219784686224828397224137565705605749026140797296865241453510047482166370484403199890008895243450658541227588666881164271714799244429282308634656748139191231628245861786645835912456652947654568284891288314260769004224219022671055626321111109370544217506941658960408171984038509624554443629812309878799272442849091888458015616609791913387549920052406368991256071760615886116467109405077541002256983155200055935729725"
   ]
  },
  {
   "cell_type": "code",
   "execution_count": 3,
   "metadata": {},
   "outputs": [
    {
     "name": "stdout",
     "output_type": "stream",
     "text": [
      "Answer: 23514624000\n",
      "Time Taken: 0.005013465881347656 seconds\n"
     ]
    }
   ],
   "source": [
    "import time\n",
    "start = time.time()\n",
    "\n",
    "len(str(number))\n",
    "max_prod = 0\n",
    "number_str = str(number)\n",
    "\n",
    "for i in range(0,len(number_str)-12):\n",
    "\n",
    "    product = int(number_str[i])*int(number_str[i+1])*int(number_str[i+2])*int(number_str[i+3])*int(number_str[i+4])*int(number_str[i+5])*int(number_str[i+6])*int(number_str[i+7])*int(number_str[i+8])*int(number_str[i+9])*int(number_str[i+10])*int(number_str[i+11])*int(number_str[i+12])\n",
    "    if product > max_prod:\n",
    "        max_prod=product\n",
    "            \n",
    "            \n",
    "end = time.time()\n",
    "\n",
    "print('Answer:', max_prod)\n",
    "print('Time Taken:', end - start, 'seconds')"
   ]
  },
  {
   "cell_type": "code",
   "execution_count": null,
   "metadata": {},
   "outputs": [],
   "source": []
  }
 ],
 "metadata": {
  "kernelspec": {
   "display_name": "Python 3",
   "language": "python",
   "name": "python3"
  },
  "language_info": {
   "codemirror_mode": {
    "name": "ipython",
    "version": 3
   },
   "file_extension": ".py",
   "mimetype": "text/x-python",
   "name": "python",
   "nbconvert_exporter": "python",
   "pygments_lexer": "ipython3",
   "version": "3.6.5"
  }
 },
 "nbformat": 4,
 "nbformat_minor": 2
}
